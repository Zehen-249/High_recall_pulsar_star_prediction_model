{
 "cells": [
  {
   "cell_type": "code",
   "execution_count": 1,
   "id": "a5e3e02c-c6a7-4d1c-9dbb-19cd7654f10b",
   "metadata": {},
   "outputs": [],
   "source": [
    "import pandas as pd\n",
    "import numpy as np\n",
    "import matplotlib.pyplot as plt"
   ]
  },
  {
   "cell_type": "code",
   "execution_count": 2,
   "id": "c98d1d23-dd8a-4ead-b4bc-2402e3811f4c",
   "metadata": {},
   "outputs": [],
   "source": [
    "train=pd.read_csv(\"pulsar_data_train.csv\")"
   ]
  },
  {
   "cell_type": "code",
   "execution_count": null,
   "id": "d8831e32-d486-4508-a50d-fefee60c7f59",
   "metadata": {},
   "outputs": [],
   "source": [
    "train.fillna(train.median(), inplace=True)"
   ]
  }
 ],
 "metadata": {
  "kernelspec": {
   "display_name": "Python 3 (ipykernel)",
   "language": "python",
   "name": "python3"
  },
  "language_info": {
   "codemirror_mode": {
    "name": "ipython",
    "version": 3
   },
   "file_extension": ".py",
   "mimetype": "text/x-python",
   "name": "python",
   "nbconvert_exporter": "python",
   "pygments_lexer": "ipython3",
   "version": "3.12.3"
  }
 },
 "nbformat": 4,
 "nbformat_minor": 5
}
